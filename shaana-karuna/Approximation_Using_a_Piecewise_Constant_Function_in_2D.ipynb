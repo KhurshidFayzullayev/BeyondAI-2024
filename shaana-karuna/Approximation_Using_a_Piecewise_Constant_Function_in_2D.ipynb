{
  "nbformat": 4,
  "nbformat_minor": 0,
  "metadata": {
    "colab": {
      "provenance": []
    },
    "kernelspec": {
      "name": "python3",
      "display_name": "Python 3"
    },
    "language_info": {
      "name": "python"
    },
    "widgets": {
      "application/vnd.jupyter.widget-state+json": {
        "b9faadf58b464098af65bacd1476faf1": {
          "model_module": "@jupyter-widgets/controls",
          "model_name": "ButtonModel",
          "model_module_version": "1.5.0",
          "state": {
            "_dom_classes": [],
            "_model_module": "@jupyter-widgets/controls",
            "_model_module_version": "1.5.0",
            "_model_name": "ButtonModel",
            "_view_count": null,
            "_view_module": "@jupyter-widgets/controls",
            "_view_module_version": "1.5.0",
            "_view_name": "ButtonView",
            "button_style": "",
            "description": "y=sin(6x)",
            "disabled": false,
            "icon": "",
            "layout": "IPY_MODEL_0819cd81edae4e9182f35b9531f3ad1e",
            "style": "IPY_MODEL_38afeb8e08cd4969b6f12052ea087507",
            "tooltip": ""
          }
        },
        "0819cd81edae4e9182f35b9531f3ad1e": {
          "model_module": "@jupyter-widgets/base",
          "model_name": "LayoutModel",
          "model_module_version": "1.2.0",
          "state": {
            "_model_module": "@jupyter-widgets/base",
            "_model_module_version": "1.2.0",
            "_model_name": "LayoutModel",
            "_view_count": null,
            "_view_module": "@jupyter-widgets/base",
            "_view_module_version": "1.2.0",
            "_view_name": "LayoutView",
            "align_content": null,
            "align_items": null,
            "align_self": null,
            "border": null,
            "bottom": null,
            "display": null,
            "flex": null,
            "flex_flow": null,
            "grid_area": null,
            "grid_auto_columns": null,
            "grid_auto_flow": null,
            "grid_auto_rows": null,
            "grid_column": null,
            "grid_gap": null,
            "grid_row": null,
            "grid_template_areas": null,
            "grid_template_columns": null,
            "grid_template_rows": null,
            "height": "50px",
            "justify_content": null,
            "justify_items": null,
            "left": null,
            "margin": null,
            "max_height": null,
            "max_width": null,
            "min_height": null,
            "min_width": null,
            "object_fit": null,
            "object_position": null,
            "order": null,
            "overflow": null,
            "overflow_x": null,
            "overflow_y": null,
            "padding": null,
            "right": null,
            "top": null,
            "visibility": null,
            "width": "200px"
          }
        },
        "38afeb8e08cd4969b6f12052ea087507": {
          "model_module": "@jupyter-widgets/controls",
          "model_name": "ButtonStyleModel",
          "model_module_version": "1.5.0",
          "state": {
            "_model_module": "@jupyter-widgets/controls",
            "_model_module_version": "1.5.0",
            "_model_name": "ButtonStyleModel",
            "_view_count": null,
            "_view_module": "@jupyter-widgets/base",
            "_view_module_version": "1.2.0",
            "_view_name": "StyleView",
            "button_color": "black",
            "font_weight": "bold"
          }
        },
        "cdd2325cebb24ceeadf44c3bca6983b5": {
          "model_module": "@jupyter-widgets/controls",
          "model_name": "ButtonModel",
          "model_module_version": "1.5.0",
          "state": {
            "_dom_classes": [],
            "_model_module": "@jupyter-widgets/controls",
            "_model_module_version": "1.5.0",
            "_model_name": "ButtonModel",
            "_view_count": null,
            "_view_module": "@jupyter-widgets/controls",
            "_view_module_version": "1.5.0",
            "_view_name": "ButtonView",
            "button_style": "",
            "description": "y=0.05(7x-2)^2(7x-6)^2",
            "disabled": false,
            "icon": "",
            "layout": "IPY_MODEL_d429a3b5c7db49e59b3d5514c7318a7a",
            "style": "IPY_MODEL_ca8ea5e9ea7e43068250a76036ec368b",
            "tooltip": ""
          }
        },
        "d429a3b5c7db49e59b3d5514c7318a7a": {
          "model_module": "@jupyter-widgets/base",
          "model_name": "LayoutModel",
          "model_module_version": "1.2.0",
          "state": {
            "_model_module": "@jupyter-widgets/base",
            "_model_module_version": "1.2.0",
            "_model_name": "LayoutModel",
            "_view_count": null,
            "_view_module": "@jupyter-widgets/base",
            "_view_module_version": "1.2.0",
            "_view_name": "LayoutView",
            "align_content": null,
            "align_items": null,
            "align_self": null,
            "border": null,
            "bottom": null,
            "display": null,
            "flex": null,
            "flex_flow": null,
            "grid_area": null,
            "grid_auto_columns": null,
            "grid_auto_flow": null,
            "grid_auto_rows": null,
            "grid_column": null,
            "grid_gap": null,
            "grid_row": null,
            "grid_template_areas": null,
            "grid_template_columns": null,
            "grid_template_rows": null,
            "height": "50px",
            "justify_content": null,
            "justify_items": null,
            "left": null,
            "margin": null,
            "max_height": null,
            "max_width": null,
            "min_height": null,
            "min_width": null,
            "object_fit": null,
            "object_position": null,
            "order": null,
            "overflow": null,
            "overflow_x": null,
            "overflow_y": null,
            "padding": null,
            "right": null,
            "top": null,
            "visibility": null,
            "width": "200px"
          }
        },
        "ca8ea5e9ea7e43068250a76036ec368b": {
          "model_module": "@jupyter-widgets/controls",
          "model_name": "ButtonStyleModel",
          "model_module_version": "1.5.0",
          "state": {
            "_model_module": "@jupyter-widgets/controls",
            "_model_module_version": "1.5.0",
            "_model_name": "ButtonStyleModel",
            "_view_count": null,
            "_view_module": "@jupyter-widgets/base",
            "_view_module_version": "1.2.0",
            "_view_name": "StyleView",
            "button_color": "black",
            "font_weight": "bold"
          }
        },
        "1be38e4830e84fbe96acf5a3b412c517": {
          "model_module": "@jupyter-widgets/controls",
          "model_name": "ButtonModel",
          "model_module_version": "1.5.0",
          "state": {
            "_dom_classes": [],
            "_model_module": "@jupyter-widgets/controls",
            "_model_module_version": "1.5.0",
            "_model_name": "ButtonModel",
            "_view_count": null,
            "_view_module": "@jupyter-widgets/controls",
            "_view_module_version": "1.5.0",
            "_view_name": "ButtonView",
            "button_style": "",
            "description": "y=e^(x-1)",
            "disabled": false,
            "icon": "",
            "layout": "IPY_MODEL_654ed939ae2f4ecf9c3279a921a95b9d",
            "style": "IPY_MODEL_413d947b209144efbbcf88928c6add9d",
            "tooltip": ""
          }
        },
        "654ed939ae2f4ecf9c3279a921a95b9d": {
          "model_module": "@jupyter-widgets/base",
          "model_name": "LayoutModel",
          "model_module_version": "1.2.0",
          "state": {
            "_model_module": "@jupyter-widgets/base",
            "_model_module_version": "1.2.0",
            "_model_name": "LayoutModel",
            "_view_count": null,
            "_view_module": "@jupyter-widgets/base",
            "_view_module_version": "1.2.0",
            "_view_name": "LayoutView",
            "align_content": null,
            "align_items": null,
            "align_self": null,
            "border": null,
            "bottom": null,
            "display": null,
            "flex": null,
            "flex_flow": null,
            "grid_area": null,
            "grid_auto_columns": null,
            "grid_auto_flow": null,
            "grid_auto_rows": null,
            "grid_column": null,
            "grid_gap": null,
            "grid_row": null,
            "grid_template_areas": null,
            "grid_template_columns": null,
            "grid_template_rows": null,
            "height": "50px",
            "justify_content": null,
            "justify_items": null,
            "left": null,
            "margin": null,
            "max_height": null,
            "max_width": null,
            "min_height": null,
            "min_width": null,
            "object_fit": null,
            "object_position": null,
            "order": null,
            "overflow": null,
            "overflow_x": null,
            "overflow_y": null,
            "padding": null,
            "right": null,
            "top": null,
            "visibility": null,
            "width": "200px"
          }
        },
        "413d947b209144efbbcf88928c6add9d": {
          "model_module": "@jupyter-widgets/controls",
          "model_name": "ButtonStyleModel",
          "model_module_version": "1.5.0",
          "state": {
            "_model_module": "@jupyter-widgets/controls",
            "_model_module_version": "1.5.0",
            "_model_name": "ButtonStyleModel",
            "_view_count": null,
            "_view_module": "@jupyter-widgets/base",
            "_view_module_version": "1.2.0",
            "_view_name": "StyleView",
            "button_color": "black",
            "font_weight": "bold"
          }
        }
      }
    }
  },
  "cells": [
    {
      "cell_type": "code",
      "execution_count": 1,
      "metadata": {
        "colab": {
          "base_uri": "https://localhost:8080/",
          "height": 179,
          "referenced_widgets": [
            "b9faadf58b464098af65bacd1476faf1",
            "0819cd81edae4e9182f35b9531f3ad1e",
            "38afeb8e08cd4969b6f12052ea087507",
            "cdd2325cebb24ceeadf44c3bca6983b5",
            "d429a3b5c7db49e59b3d5514c7318a7a",
            "ca8ea5e9ea7e43068250a76036ec368b",
            "1be38e4830e84fbe96acf5a3b412c517",
            "654ed939ae2f4ecf9c3279a921a95b9d",
            "413d947b209144efbbcf88928c6add9d"
          ]
        },
        "id": "NGZghxXGEvuf",
        "outputId": "66f99c4e-b054-44f5-acb9-ac10f09d1536"
      },
      "outputs": [
        {
          "output_type": "display_data",
          "data": {
            "text/plain": [
              "Button(description='y=sin(6x)', layout=Layout(height='50px', width='200px'), style=ButtonStyle(button_color='b…"
            ],
            "application/vnd.jupyter.widget-view+json": {
              "version_major": 2,
              "version_minor": 0,
              "model_id": "b9faadf58b464098af65bacd1476faf1"
            }
          },
          "metadata": {}
        },
        {
          "output_type": "display_data",
          "data": {
            "text/plain": [
              "Button(description='y=0.05(7x-2)^2(7x-6)^2', layout=Layout(height='50px', width='200px'), style=ButtonStyle(bu…"
            ],
            "application/vnd.jupyter.widget-view+json": {
              "version_major": 2,
              "version_minor": 0,
              "model_id": "cdd2325cebb24ceeadf44c3bca6983b5"
            }
          },
          "metadata": {}
        },
        {
          "output_type": "display_data",
          "data": {
            "text/plain": [
              "Button(description='y=e^(x-1)', layout=Layout(height='50px', width='200px'), style=ButtonStyle(button_color='b…"
            ],
            "application/vnd.jupyter.widget-view+json": {
              "version_major": 2,
              "version_minor": 0,
              "model_id": "1be38e4830e84fbe96acf5a3b412c517"
            }
          },
          "metadata": {}
        }
      ],
      "source": [
        "import numpy as np\n",
        "import matplotlib.pyplot as plt\n",
        "from ipywidgets import interact\n",
        "import ipywidgets as widgets\n",
        "from IPython.display import display\n",
        "import math\n",
        "\n",
        "\n",
        "def function(input):\n",
        "  if chosen_func == 1:\n",
        "    return math.sin(6*input)\n",
        "  elif chosen_func == 2:\n",
        "    return 0.05*((7*input-2)**2)*((7*input-6)**2)\n",
        "  elif chosen_func == 3:\n",
        "    return (math.e)**(input-1)\n",
        "\n",
        "\n",
        "def piecewise_function(x, n_sections):\n",
        "    y_1 = np.piecewise(x,\n",
        "                        [((i / n_sections) <= x) & (x < ((i + 1) / n_sections)) for i in range(n_sections)],\n",
        "                        [lambda x, i=i: function(i/n_sections) for i in range(n_sections)])\n",
        "    y_1[999] = function(1)\n",
        "    return y_1\n",
        "\n",
        "\n",
        "def plot_piecewise(n_sections):\n",
        "    x = np.linspace(0, 1, 1000)\n",
        "    y = piecewise_function(x, n_sections)\n",
        "\n",
        "    plt.figure(figsize=(8, 4))\n",
        "    ax = plt.gca()\n",
        "    ax.set_facecolor('#17282A')\n",
        "    plt.plot(x, y, label=f'{n_sections} sections', color=\"#F5F5DD\")\n",
        "    plt.plot(x, [function(i) for i in x], color='#93C280')\n",
        "    plt.title(\"Approximation Using a Piecewise Constant Function in 2D\")\n",
        "    plt.xlabel(\"x\")\n",
        "    plt.ylabel(\"y\")\n",
        "    plt.grid()\n",
        "    plt.legend()\n",
        "    plt.show()\n",
        "\n",
        "\n",
        "\n",
        "\n",
        "def sin_clicked(b):\n",
        "  global chosen_func\n",
        "  chosen_func = 1\n",
        "  interact(plot_piecewise, n_sections=(1, 100, 1))\n",
        "def quartic_clicked(b):\n",
        "  global chosen_func\n",
        "  chosen_func = 2\n",
        "  interact(plot_piecewise, n_sections=(1, 100, 1))\n",
        "def exp_clicked(b):\n",
        "  global chosen_func\n",
        "  chosen_func = 3\n",
        "  interact(plot_piecewise, n_sections=(1, 100, 1))\n",
        "\n",
        "\n",
        "\n",
        "sin_button = widgets.Button(description=\"y=sin(6x)\", layout=widgets.Layout(width='200px', height='50px'),\n",
        "    style=widgets.ButtonStyle(\n",
        "        button_color='black',\n",
        "        color='black',\n",
        "        font_weight='bold'))\n",
        "sin_button.on_click(sin_clicked)\n",
        "display(sin_button)\n",
        "quartic_button = widgets.Button(description=\"y=0.05(7x-2)^2(7x-6)^2\", layout=widgets.Layout(width='200px', height='50px'),\n",
        "    style=widgets.ButtonStyle(\n",
        "        button_color='black',\n",
        "        font_weight='bold'))\n",
        "quartic_button.on_click(quartic_clicked)\n",
        "display(quartic_button)\n",
        "exp_button = widgets.Button(description=\"y=e^(x-1)\", layout=widgets.Layout(width='200px', height='50px'),\n",
        "    style=widgets.ButtonStyle(\n",
        "        button_color='black',\n",
        "        font_weight='bold'))\n",
        "exp_button.on_click(exp_clicked)\n",
        "display(exp_button)"
      ]
    },
    {
      "cell_type": "code",
      "source": [],
      "metadata": {
        "id": "gfRFbJFrkc8W"
      },
      "execution_count": null,
      "outputs": []
    }
  ]
}