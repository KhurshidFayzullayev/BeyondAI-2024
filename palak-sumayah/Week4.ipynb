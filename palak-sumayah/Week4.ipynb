{
  "cells": [
    {
      "cell_type": "code",
      "execution_count": null,
      "metadata": {
        "id": "FIA9_Bh6lHqh"
      },
      "outputs": [],
      "source": [
        "import numpy as np\n",
        "import matplotlib.pyplot as plt\n",
        "from sklearn.datasets import fetch_openml\n",
        "from sklearn.model_selection import train_test_split\n",
        "from sklearn.preprocessing import StandardScaler\n",
        "from sklearn.linear_model import LogisticRegression\n",
        "from sklearn.svm import SVC\n",
        "from sklearn.tree import DecisionTreeClassifier\n",
        "from sklearn.ensemble import RandomForestClassifier, GradientBoostingClassifier\n",
        "from sklearn.naive_bayes import GaussianNB\n",
        "from sklearn.metrics import accuracy_score\n",
        "import pandas as pd\n",
        "import time"
      ]
    },
    {
      "cell_type": "code",
      "execution_count": null,
      "metadata": {
        "id": "p1NCBoa_miy4"
      },
      "outputs": [],
      "source": [
        "mnist = fetch_openml('mnist_784', version=1)\n",
        "X, y = mnist.data, mnist.target\n",
        "y = y.astype(int)"
      ]
    },
    {
      "cell_type": "code",
      "execution_count": null,
      "metadata": {
        "id": "5qoF7AKjmknL"
      },
      "outputs": [],
      "source": [
        "scaler = StandardScaler()\n",
        "X_scaled = scaler.fit_transform(X)"
      ]
    },
    {
      "cell_type": "code",
      "execution_count": null,
      "metadata": {
        "id": "LT5EqDQ-m6ei"
      },
      "outputs": [],
      "source": [
        "X_train, X_test, y_train, y_test = train_test_split(X_scaled, y, test_size=0.2, random_state=42)\n",
        "\n",
        "results = []\n"
      ]
    },
    {
      "cell_type": "code",
      "execution_count": null,
      "metadata": {
        "id": "dWrVaFjXnHtl"
      },
      "outputs": [],
      "source": [
        "# Function to evaluate a classifier\n",
        "def evaluate_classifier(name, clf):\n",
        "    print(f\"### {name} ###\")\n",
        "    start_time = time.time()\n",
        "    clf.fit(X_train, y_train)\n",
        "    train_time = time.time() - start_time\n",
        "    y_pred = clf.predict(X_test)\n",
        "    acc = accuracy_score(y_test, y_pred)\n",
        "    print(f\"Accuracy: {acc:.2f}\")\n",
        "    print(f\"Training Time: {train_time:.4f} seconds\")\n",
        "\n",
        "    # Save results for comparison table\n",
        "    if isinstance(clf, LogisticRegression):\n",
        "        time_complexity = \"O(n*d)\"\n",
        "        outlier_effect = \"High\"\n",
        "        notes = \"Linear decision boundary; struggles with non-linear separable data.\"\n",
        "    elif isinstance(clf, SVC):\n",
        "        time_complexity = \"O(n^2*d)\"\n",
        "        outlier_effect = \"Moderate\"\n",
        "        notes = \"Performs well on non-linear separable data with kernel methods.\"\n",
        "    elif isinstance(clf, DecisionTreeClassifier):\n",
        "        time_complexity = \"O(n*log(n))\"\n",
        "        outlier_effect = \"High\"\n",
        "        notes = \"Prone to overfitting; sensitive to outliers.\"\n",
        "    elif isinstance(clf, RandomForestClassifier):\n",
        "        time_complexity = \"O(trees*n*log(n))\"\n",
        "        outlier_effect = \"Moderate\"\n",
        "        notes = \"Handles overfitting better; reduces variance.\"\n",
        "    elif isinstance(clf, GradientBoostingClassifier):\n",
        "        time_complexity = \"O(trees*n*log(n))\"\n",
        "        outlier_effect = \"Moderate\"\n",
        "        notes = \"Focuses on reducing errors sequentially; better for small datasets.\"\n",
        "    elif isinstance(clf, GaussianNB):\n",
        "        time_complexity = \"O(n*d)\"\n",
        "        outlier_effect = \"High\"\n",
        "        notes = \"Assumes features are independent; quick to train.\"\n",
        "\n",
        "    results.append({\n",
        "        \"Classifier\": name,\n",
        "        \"Accuracy\": f\"{acc:.2f}\",\n",
        "        \"Training Time (s)\": f\"{train_time:.4f}\",\n",
        "        \"Time Complexity\": time_complexity,\n",
        "        \"Outlier Sensitivity\": outlier_effect,\n",
        "        \"Observations\": notes\n",
        "    })\n",
        "\n",
        "    print(\"\\n\")\n"
      ]
    },
    {
      "cell_type": "code",
      "execution_count": null,
      "metadata": {
        "colab": {
          "base_uri": "https://localhost:8080/"
        },
        "id": "icPVThZjnNFR",
        "outputId": "7d155458-03d2-4451-83ec-8953392de5be"
      },
      "outputs": [
        {
          "name": "stdout",
          "output_type": "stream",
          "text": [
            "### Logistic Regression (Linear) ###\n",
            "Accuracy: 0.92\n",
            "Training Time: 58.7928 seconds\n",
            "\n",
            "\n"
          ]
        }
      ],
      "source": [
        "\n",
        "evaluate_classifier(\"Logistic Regression (Linear)\", LogisticRegression(max_iter=1000))\n"
      ]
    },
    {
      "cell_type": "code",
      "execution_count": null,
      "metadata": {
        "colab": {
          "base_uri": "https://localhost:8080/"
        },
        "id": "QggiwWL-pZ2C",
        "outputId": "119582af-7768-43ed-8f10-f658c63afa4d"
      },
      "outputs": [
        {
          "name": "stdout",
          "output_type": "stream",
          "text": [
            "### SVM with RBF Kernel ###\n",
            "Accuracy: 0.96\n",
            "Training Time: 2125.9112 seconds\n",
            "\n",
            "\n"
          ]
        }
      ],
      "source": [
        "\n",
        "evaluate_classifier(\"SVM with RBF Kernel\", SVC(kernel=\"rbf\", probability=True))\n"
      ]
    },
    {
      "cell_type": "code",
      "execution_count": null,
      "metadata": {
        "colab": {
          "base_uri": "https://localhost:8080/"
        },
        "id": "rR9sxahPquPW",
        "outputId": "8e7b8ede-08c1-4e87-d4f6-1d5c5a5f50bc"
      },
      "outputs": [
        {
          "name": "stdout",
          "output_type": "stream",
          "text": [
            "### Decision Tree ###\n",
            "Accuracy: 0.87\n",
            "Training Time: 21.7060 seconds\n",
            "\n",
            "\n"
          ]
        }
      ],
      "source": [
        "evaluate_classifier(\"Decision Tree\", DecisionTreeClassifier())"
      ]
    },
    {
      "cell_type": "code",
      "execution_count": null,
      "metadata": {
        "id": "gg5rUO-WsO6G"
      },
      "outputs": [],
      "source": [
        "evaluate_classifier(\"Random Forest\", RandomForestClassifier())"
      ]
    },
    {
      "cell_type": "code",
      "execution_count": null,
      "metadata": {
        "colab": {
          "background_save": true,
          "base_uri": "https://localhost:8080/"
        },
        "id": "1Nvm1lhqsU2u",
        "outputId": "9c1c4d46-74b9-4c24-f03c-3354b86e91fd"
      },
      "outputs": [
        {
          "name": "stdout",
          "output_type": "stream",
          "text": [
            "### Gradient Boosting ###\n",
            "Accuracy: 0.95\n",
            "Training Time: 3528.2132 seconds\n",
            "\n",
            "\n"
          ]
        }
      ],
      "source": [
        "evaluate_classifier(\"Gradient Boosting\", GradientBoostingClassifier())"
      ]
    },
    {
      "cell_type": "code",
      "execution_count": null,
      "metadata": {
        "id": "MW0NSsOesX23"
      },
      "outputs": [],
      "source": [
        "evaluate_classifier(\"Naive Bayes\", GaussianNB())"
      ]
    },
    {
      "cell_type": "code",
      "execution_count": null,
      "metadata": {
        "id": "gPGxH_nYsaBR"
      },
      "outputs": [],
      "source": []
    }
  ],
  "metadata": {
    "colab": {
      "provenance": []
    },
    "kernelspec": {
      "display_name": "Python 3",
      "name": "python3"
    },
    "language_info": {
      "name": "python"
    }
  },
  "nbformat": 4,
  "nbformat_minor": 0
}